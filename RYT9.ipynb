{
  "nbformat": 4,
  "nbformat_minor": 0,
  "metadata": {
    "colab": {
      "provenance": []
    },
    "kernelspec": {
      "name": "python3",
      "display_name": "Python 3"
    },
    "language_info": {
      "name": "python"
    }
  },
  "cells": [
    {
      "cell_type": "code",
      "execution_count": null,
      "metadata": {
        "id": "a_-DDBsiGsRQ"
      },
      "outputs": [],
      "source": [
        "from bs4 import BeautifulSoup as soup\n",
        "import requests\n",
        "from datetime import datetime\n",
        "import pandas as pd\n",
        "import json\n",
        "import re"
      ]
    },
    {
      "cell_type": "code",
      "source": [
        "title = []\n",
        "urls = []\n",
        "category = []\n",
        "published_datetime = []\n",
        "content = []"
      ],
      "metadata": {
        "id": "qxMwu_M5L4sI"
      },
      "execution_count": null,
      "outputs": []
    },
    {
      "cell_type": "code",
      "source": [
        "r = requests.get('https://www.ryt9.com/tag/%E0%B8%AD%E0%B8%B1%E0%B8%8D%E0%B8%A1%E0%B8%93%E0%B8%B5#google_vignette')\n",
        "b = soup(r.content,'lxml')"
      ],
      "metadata": {
        "id": "8UovlfQ1M2zY"
      },
      "execution_count": null,
      "outputs": []
    },
    {
      "cell_type": "code",
      "source": [
        "span = b.find_all('a',attrs={'class':'list-title'})\n",
        "for each in span:\n",
        "    title.append(str(each.get_text()))\n",
        "print(title)"
      ],
      "metadata": {
        "id": "K9zREJc3bIyU"
      },
      "execution_count": null,
      "outputs": []
    },
    {
      "cell_type": "code",
      "source": [
        "d = b.find_all('span',attrs={'class':'date-time'})\n",
        "for each in d:\n",
        "    published_datetime.append(str(each.get_text().replace('–ThaiPR.net','').replace('\\r\\n','')))\n",
        "    published_datetime = [published_datetime.replace('–สำนักข่าวอินโฟเควสท์ (IQ)','').replace('–กรมเจรจาการค้าระหว่างประเทศ','') for published_datetime in published_datetime]\n",
        "print(published_datetime)"
      ],
      "metadata": {
        "id": "lyqSl6QPbYzs"
      },
      "execution_count": null,
      "outputs": []
    },
    {
      "cell_type": "code",
      "source": [
        "o = b.find_all('span',attrs={'class':'brief'})\n",
        "for each in o:\n",
        "    content.append(str(each.get_text()))\n",
        "print(content)"
      ],
      "metadata": {
        "id": "8jPEXd4xgbBR"
      },
      "execution_count": null,
      "outputs": []
    },
    {
      "cell_type": "code",
      "source": [
        "z = b.find_all('span',attrs={'class':'tag has-text-weight-bold is-gray is-medium'})\n",
        "for each in z:\n",
        "    category.append(str(each.get_text()))\n",
        "print(category)"
      ],
      "metadata": {
        "id": "vwUjObh2hKng"
      },
      "execution_count": null,
      "outputs": []
    },
    {
      "cell_type": "code",
      "source": [
        "for news in b.find_all('div',attrs={'class':'desc'}):\n",
        "    urls.append(news.find('a', href=True)['href'])\n",
        "print(urls)"
      ],
      "metadata": {
        "id": "c5ivalmJMC-t"
      },
      "execution_count": null,
      "outputs": []
    },
    {
      "cell_type": "code",
      "source": [
        "table = pd.DataFrame([title,category,published_datetime,urls,content]).transpose()\n",
        "table.columns = ['title','category','published_datetime','urls','content']\n",
        "table"
      ],
      "metadata": {
        "id": "2sIX1_N1awfP"
      },
      "execution_count": null,
      "outputs": []
    },
    {
      "cell_type": "code",
      "source": [
        "table = table.to_dict('records')"
      ],
      "metadata": {
        "id": "TwG1T9W_rJsB"
      },
      "execution_count": null,
      "outputs": []
    },
    {
      "cell_type": "code",
      "source": [
        "with open('cosmopolitan.json','w', encoding='utf8') as json_file:\n",
        "    json.dump(table, json_file)"
      ],
      "metadata": {
        "id": "KUsPPVp5rXqO"
      },
      "execution_count": null,
      "outputs": []
    },
    {
      "cell_type": "code",
      "source": [],
      "metadata": {
        "id": "S2EoAhvFWLBV"
      },
      "execution_count": null,
      "outputs": []
    }
  ]
}